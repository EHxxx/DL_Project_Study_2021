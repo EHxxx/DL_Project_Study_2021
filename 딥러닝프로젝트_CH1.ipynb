{
  "nbformat": 4,
  "nbformat_minor": 0,
  "metadata": {
    "accelerator": "GPU",
    "colab": {
      "name": "딥러닝프로젝트 CH1.ipynb",
      "provenance": [],
      "collapsed_sections": [],
      "mount_file_id": "1pXST-1C5cZtzV9sTEvNNbrZ2-bYm1kGH",
      "authorship_tag": "ABX9TyPRg9K+l84fVGXrEEDvACws",
      "include_colab_link": true
    },
    "kernelspec": {
      "display_name": "Python 3",
      "name": "python3"
    },
    "language_info": {
      "name": "python"
    }
  },
  "cells": [
    {
      "cell_type": "markdown",
      "metadata": {
        "id": "view-in-github",
        "colab_type": "text"
      },
      "source": [
        "<a href=\"https://colab.research.google.com/github/HOSilvL/DL_Project_Study_2021/blob/main/%EB%94%A5%EB%9F%AC%EB%8B%9D%ED%94%84%EB%A1%9C%EC%A0%9D%ED%8A%B8_CH1.ipynb\" target=\"_parent\"><img src=\"https://colab.research.google.com/assets/colab-badge.svg\" alt=\"Open In Colab\"/></a>"
      ]
    },
    {
      "cell_type": "code",
      "metadata": {
        "colab": {
          "base_uri": "https://localhost:8080/"
        },
        "id": "Xn-Ra3gJN5h6",
        "outputId": "4fbcb195-e01e-4306-ef26-7d4b7c1fc67d"
      },
      "source": [
        "! echo \"# DL_Project_Study_2021\" >> README.md\n",
        "! git init\n",
        "! git add README.md\n",
        "! git commit -m \"first commit\"\n",
        "! git branch -M main\n",
        "! git remote add origin https://github.com/HOSilvL/DL_Project_Study_2021.git\n",
        "! git push -u origin main"
      ],
      "execution_count": 3,
      "outputs": [
        {
          "output_type": "stream",
          "name": "stdout",
          "text": [
            "Initialized empty Git repository in /content/.git/\n",
            "\n",
            "*** Please tell me who you are.\n",
            "\n",
            "Run\n",
            "\n",
            "  git config --global user.email \"you@example.com\"\n",
            "  git config --global user.name \"Your Name\"\n",
            "\n",
            "to set your account's default identity.\n",
            "Omit --global to set the identity only in this repository.\n",
            "\n",
            "fatal: unable to auto-detect email address (got 'root@8f3e59cc2605.(none)')\n",
            "error: refname refs/heads/master not found\n",
            "fatal: Branch rename failed\n",
            "error: src refspec main does not match any.\n",
            "error: failed to push some refs to 'https://github.com/HOSilvL/DL_Project_Study_2021.git'\n"
          ]
        }
      ]
    },
    {
      "cell_type": "code",
      "metadata": {
        "id": "m1YoaTdFvefn"
      },
      "source": [
        "import torch\n",
        "import torchvision\n",
        "import torch.nn"
      ],
      "execution_count": null,
      "outputs": []
    },
    {
      "cell_type": "code",
      "metadata": {
        "colab": {
          "base_uri": "https://localhost:8080/"
        },
        "id": "RB8ghBVbvoMN",
        "outputId": "979c1ac3-ad31-451d-ff8f-8509fddf72d1"
      },
      "source": [
        "!pip3 install --upgrade torch torchvision"
      ],
      "execution_count": null,
      "outputs": [
        {
          "output_type": "stream",
          "name": "stdout",
          "text": [
            "Requirement already satisfied: torch in /usr/local/lib/python3.7/dist-packages (1.9.0+cu102)\n",
            "Requirement already satisfied: torchvision in /usr/local/lib/python3.7/dist-packages (0.10.0+cu102)\n",
            "Requirement already satisfied: typing-extensions in /usr/local/lib/python3.7/dist-packages (from torch) (3.7.4.3)\n",
            "Requirement already satisfied: pillow>=5.3.0 in /usr/local/lib/python3.7/dist-packages (from torchvision) (7.1.2)\n",
            "Requirement already satisfied: numpy in /usr/local/lib/python3.7/dist-packages (from torchvision) (1.19.5)\n"
          ]
        }
      ]
    },
    {
      "cell_type": "code",
      "metadata": {
        "colab": {
          "base_uri": "https://localhost:8080/"
        },
        "id": "a3lzI1C-v0iF",
        "outputId": "a28abc5c-dc70-4255-c370-dd0e6b46bec1"
      },
      "source": [
        "torch.cuda.is_available()"
      ],
      "execution_count": null,
      "outputs": [
        {
          "output_type": "execute_result",
          "data": {
            "text/plain": [
              "True"
            ]
          },
          "metadata": {},
          "execution_count": 3
        }
      ]
    },
    {
      "cell_type": "code",
      "metadata": {
        "id": "jwcnPx-Hld_B"
      },
      "source": [
        "\n",
        "!unzip -qq \"/content/drive/MyDrive/딥러닝프로젝트스터디/GTSRB_Final_Training_Images.zip\""
      ],
      "execution_count": null,
      "outputs": []
    },
    {
      "cell_type": "code",
      "metadata": {
        "id": "gFj7bo3UgBbV"
      },
      "source": [
        "N_CLASSES = 43\n",
        "RESIZED_IMAGE = (32,32)\n"
      ],
      "execution_count": null,
      "outputs": []
    },
    {
      "cell_type": "code",
      "metadata": {
        "colab": {
          "base_uri": "https://localhost:8080/"
        },
        "id": "sHnOq0ExjLz9",
        "outputId": "c202e813-680e-4d47-8883-d80f3431d333"
      },
      "source": [
        "import matplotlib.pyplot as plt\n",
        "import glob\n",
        "from skimage.color import rgb2lab  # skimage 모듈을 통해 이미지를 읽고, 변환하고, 사이즈를 조정하는 작업이 쉬워짐.\n",
        "from skimage.transform import resize\n",
        "from collections import namedtuple\n",
        "import numpy as np\n",
        "np.random.seed(101)\n",
        "%matplotlib inline\n",
        "\n",
        "Dataset = namedtuple('Dataset', ['X', 'y'])\n",
        "\n",
        "def to_tf_format(imgs):\n",
        "    return np.stack([img[:, :, np.newaxis] for img in imgs], axis=0).astype(np.float32)\n",
        "\n",
        "def read_dataset_ppm(rootpath, n_labels, resize_to):\n",
        "  images = []\n",
        "  labels = []\n",
        "  \n",
        "  for c in range(n_labels):\n",
        "    full_path = rootpath + '/' + format(c, '05d') + '/'\n",
        "    for img_name in glob.glob(full_path + \"*.ppm\"):\n",
        "      \n",
        "      img = plt.imread(img_name).astype(np.float32)\n",
        "      img = rgb2lab(img / 255.0)[:,:,0] # 이미지를 원래의 색공간(RGB)에서 lab 색 공간(회색조)로 변환해 밝기 성분만 유지\n",
        "      if resize_to:\n",
        "        img = resize(img, resize_to, mode='reflect')\n",
        "      \n",
        "      label = np.zeros((n_labels, ), dtype=np.float32)\n",
        "      label[c] = 1.0\n",
        "      \n",
        "      images.append(img.astype(np.float32))\n",
        "      labels.append(label)\n",
        "\n",
        "  return Dataset(X = to_tf_format(images).astype(np.float32),\n",
        "                 y = np.matrix(labels).astype(np.float32))\n",
        "\n",
        "dataset = read_dataset_ppm('GTSRB/Final_Training/Images', N_CLASSES, RESIZED_IMAGE)\n",
        "print(dataset.X.shape)\n",
        "print(dataset.y.shape)"
      ],
      "execution_count": null,
      "outputs": [
        {
          "output_type": "stream",
          "name": "stdout",
          "text": [
            "(39209, 32, 32, 1)\n",
            "(39209, 43)\n"
          ]
        }
      ]
    },
    {
      "cell_type": "code",
      "metadata": {
        "colab": {
          "base_uri": "https://localhost:8080/",
          "height": 302
        },
        "id": "Mncd5RemjjVQ",
        "outputId": "fb20330b-ab60-4399-ddee-fa17b7b879f6"
      },
      "source": [
        "plt.imshow(dataset.X[0,:,:,].reshape(RESIZED_IMAGE))\n",
        "print(dataset.y[0,:])\n"
      ],
      "execution_count": null,
      "outputs": [
        {
          "output_type": "stream",
          "name": "stdout",
          "text": [
            "[[1. 0. 0. 0. 0. 0. 0. 0. 0. 0. 0. 0. 0. 0. 0. 0. 0. 0. 0. 0. 0. 0. 0. 0.\n",
            "  0. 0. 0. 0. 0. 0. 0. 0. 0. 0. 0. 0. 0. 0. 0. 0. 0. 0. 0.]]\n"
          ]
        },
        {
          "output_type": "display_data",
          "data": {
            "image/png": "[encoded data removed]",
            "text/plain": [
              "<Figure size 432x288 with 1 Axes>"
            ]
          },
          "metadata": {
            "needs_background": "light"
          }
        }
      ]
    },
    {
      "cell_type": "code",
      "metadata": {
        "colab": {
          "base_uri": "https://localhost:8080/",
          "height": 302
        },
        "id": "lX45_2WZCwW_",
        "outputId": "858a8af6-9f70-4b22-f39e-0643e35c5f94"
      },
      "source": [
        "plt.imshow(dataset.X[-1,:,:,].reshape(RESIZED_IMAGE))\n",
        "print(dataset.y[-1,:])\n"
      ],
      "execution_count": null,
      "outputs": [
        {
          "output_type": "stream",
          "name": "stdout",
          "text": [
            "[[0. 0. 0. 0. 0. 0. 0. 0. 0. 0. 0. 0. 0. 0. 0. 0. 0. 0. 0. 0. 0. 0. 0. 0.\n",
            "  0. 0. 0. 0. 0. 0. 0. 0. 0. 0. 0. 0. 0. 0. 0. 0. 0. 0. 1.]]\n"
          ]
        },
        {
          "output_type": "display_data",
          "data": {
            "image/png": "[encoded data removed]",
            "text/plain": [
              "<Figure size 432x288 with 1 Axes>"
            ]
          },
          "metadata": {
            "needs_background": "light"
          }
        }
      ]
    },
    {
      "cell_type": "code",
      "metadata": {
        "colab": {
          "base_uri": "https://localhost:8080/"
        },
        "id": "EgwfQsynC13Q",
        "outputId": "d268522d-ace6-49fd-9856-1f47b2bbbdae"
      },
      "source": [
        "from sklearn.model_selection import train_test_split\n",
        "idx_train, idx_test = train_test_split(range(dataset.X.shape[0]), test_size=0.25, random_state=101)\n",
        "X_train = dataset.X[idx_train, :, :, :]\n",
        "X_test = dataset.X[idx_test, :, :, :]\n",
        "y_train = dataset.y[idx_train, :]\n",
        "y_test = dataset.y[idx_test, :]\n",
        "\n",
        "print(X_train.shape)\n",
        "print(y_train.shape)\n",
        "print(X_test.shape)\n",
        "print(y_test.shape)"
      ],
      "execution_count": null,
      "outputs": [
        {
          "output_type": "stream",
          "name": "stdout",
          "text": [
            "(29406, 32, 32, 1)\n",
            "(29406, 43)\n",
            "(9803, 32, 32, 1)\n",
            "(9803, 43)\n"
          ]
        }
      ]
    },
    {
      "cell_type": "code",
      "metadata": {
        "id": "Bo-Nxb6SC2Mv"
      },
      "source": [
        "def minibatcher(X, y, batch_size, shuffle):\n",
        "  assert X.shape[0] == y.shape[0]\n",
        "  n_samples = X.shape[0]\n",
        "  \n",
        "  if shuffle:\n",
        "    idx = np.random.permutation(n_samples)\n",
        "  else:\n",
        "    idx = list(range(n_samples))\n",
        "  \n",
        "  for k in range(int(np.ceil(n_samples/batch_size))):\n",
        "    from_idx = k*batch_size\n",
        "    to_idx = (k+1)*batch_size\n",
        "    yield X[idx[from_idx:to_idx], :, :, :], y[idx[from_idx:to_idx], :]"
      ],
      "execution_count": null,
      "outputs": []
    },
    {
      "cell_type": "code",
      "metadata": {
        "colab": {
          "base_uri": "https://localhost:8080/"
        },
        "id": "7ozL2MpZC2aI",
        "outputId": "7399730f-0306-4df4-8755-b5e4489e1360"
      },
      "source": [
        "for mb in minibatcher(X_train, y_train, 10000, True):\n",
        "  print(mb[0].shape, mb[1].shape)"
      ],
      "execution_count": null,
      "outputs": [
        {
          "output_type": "stream",
          "name": "stdout",
          "text": [
            "(10000, 32, 32, 1) (10000, 43)\n",
            "(10000, 32, 32, 1) (10000, 43)\n",
            "(9406, 32, 32, 1) (9406, 43)\n"
          ]
        }
      ]
    },
    {
      "cell_type": "code",
      "metadata": {
        "id": "NOT68wuOLRCN",
        "colab": {
          "base_uri": "https://localhost:8080/"
        },
        "outputId": "2acfa44e-2320-4c0a-809c-024b9373b396"
      },
      "source": [
        "import tensorflow as tf\n",
        "import tensorflow.compat.v1 as tf1\n",
        "tf1.disable_v2_behavior()\n",
        "def fc_no_activation_layer(in_tensors, n_units):\n",
        "  w = tf1.get_variable('fc_W', \n",
        "    [in_tensors.get_shape()[1], n_units],\n",
        "    tf.float32,\n",
        "    tf.keras.initializers.glorot_normal)\n",
        "  b = tf1.get_variable('fc_B',\n",
        "    [n_units, ],\n",
        "    tf.float32,\n",
        "    tf.constant_initializer(0.0))\n",
        "  return tf.matmul(in_tensors, w) + b\n",
        "\n",
        "def fc_layer(in_tensors, n_units):\n",
        "  return tf.nn.leaky_relu(fc_no_activation_layer(in_tensors, n_units))\n",
        "\n",
        "def maxpool_layer(in_tensors, sampling):\n",
        "  return tf.nn.max_pool(in_tensors, [1, sampling, sampling, 1], [1, sampling, sampling, 1], 'SAME')\n",
        "  \n",
        "def conv_layer(in_tensors, kernel_size, n_units):\n",
        "  w = tf1.get_variable('conv_W', \n",
        "    [kernel_size, kernel_size, in_tensors.get_shape()[3], n_units],\n",
        "    tf.float32,\n",
        "    tf.keras.initializers.glorot_normal)\n",
        "  b = tf1.get_variable('conv_B',\n",
        "    [n_units, ],\n",
        "    tf.float32,\n",
        "    tf.constant_initializer(0.0))\n",
        "  return tf.nn.leaky_relu(tf.nn.conv2d(in_tensors, w, [1, 1, 1, 1], 'SAME') + b)\n",
        "\n",
        "def dropout(in_tensors, keep_proba, is_training):\n",
        "  return tf.cond(is_training, lambda: tf.nn.dropout(in_tensors, keep_proba), lambda: in_tensors)\n",
        "\n",
        "  \n",
        "def model(in_tensors, is_training):\n",
        "  \n",
        "  # First layer: 5x5 2d-conv, 32 filters, 2x maxpool, 20% drouput\n",
        "  with tf1.variable_scope('l1'):\n",
        "    l1 = maxpool_layer(conv_layer(in_tensors, 5, 32), 2)\n",
        "    l1_out = dropout(l1, 0.6, is_training)\n",
        "  \n",
        "  # Second layer: 5x5 2d-conv, 64 filters, 2x maxpool, 20% drouput\n",
        "  with tf1.variable_scope('l2'):\n",
        "    l2 = maxpool_layer(conv_layer(l1_out, 5, 64), 2)\n",
        "    l2_out = dropout(l2, 0.6, is_training)\n",
        "    \n",
        "  with tf1.variable_scope('flatten'):\n",
        "    l2_out_flat = tf1.layers.flatten(l2_out)\n",
        "  \n",
        "  # Fully collected layer, 1024 neurons, 40% dropout \n",
        "  with tf1.variable_scope('l3'):\n",
        "    l3 = fc_layer(l2_out_flat, 1024)\n",
        "    l3_out = dropout(l3, 0.5, is_training)\n",
        "  # Output\n",
        "  with tf1.variable_scope('out'):\n",
        "    out_tensors = fc_no_activation_layer(l3_out, N_CLASSES)\n",
        "  \n",
        "  return out_tensors"
      ],
      "execution_count": null,
      "outputs": [
        {
          "output_type": "stream",
          "name": "stdout",
          "text": [
            "WARNING:tensorflow:From /usr/local/lib/python3.7/dist-packages/tensorflow/python/compat/v2_compat.py:101: disable_resource_variables (from tensorflow.python.ops.variable_scope) is deprecated and will be removed in a future version.\n",
            "Instructions for updating:\n",
            "non-resource variables are not supported in the long term\n"
          ]
        }
      ]
    },
    {
      "cell_type": "code",
      "metadata": {
        "id": "S9nf0tXKLRWT",
        "colab": {
          "base_uri": "https://localhost:8080/",
          "height": 1000
        },
        "outputId": "0652ec13-108a-4e95-a825-39871fc73cca"
      },
      "source": [
        "from sklearn.metrics import classification_report, confusion_matrix\n",
        "\n",
        "\n",
        "def train_model(X_train, y_train, X_test, y_test, learning_rate, max_epochs, batch_size):\n",
        "\n",
        "  in_X_tensors_batch = tf1.placeholder(tf.float32, shape = (None, RESIZED_IMAGE[0], RESIZED_IMAGE[1], 1))\n",
        "  in_y_tensors_batch = tf1.placeholder(tf.float32, shape = (None, N_CLASSES))\n",
        "  is_training = tf1.placeholder(tf.bool)\n",
        "\n",
        "  logits = model(in_X_tensors_batch, is_training)\n",
        "  out_y_pred = tf.nn.softmax(logits)\n",
        "  loss_score = tf.nn.softmax_cross_entropy_with_logits(logits=logits, labels=in_y_tensors_batch)\n",
        "  loss = tf.reduce_mean(loss_score)\n",
        "  optimizer = tf1.train.AdamOptimizer(learning_rate).minimize(loss)\n",
        "\n",
        "  with tf1.Session() as session:\n",
        "    session.run(tf1.global_variables_initializer())\n",
        "\n",
        "    for epoch in range(max_epochs):\n",
        "      print(\"Epoch=\", epoch)\n",
        "      tf_score = []\n",
        "      \n",
        "      for mb in minibatcher(X_train, y_train, batch_size, shuffle = True):\n",
        "        tf_output = session.run([optimizer, loss], \n",
        "                                feed_dict = {in_X_tensors_batch : mb[0], \n",
        "                                             in_y_tensors_batch : mb[1],\n",
        "                                             is_training : True})\n",
        "      \n",
        "        tf_score.append(tf_output[1])\n",
        "      print(\" train_loss_score=\", np.mean(tf_score))\n",
        "    \n",
        "    # after the training is done, time to test it on the test set\n",
        "    print(\"TEST SET PERFORMANCE\")\n",
        "    y_test_pred, test_loss  = session.run([out_y_pred, loss], \n",
        "                                          feed_dict = {in_X_tensors_batch : X_test, \n",
        "                                                       in_y_tensors_batch : y_test,\n",
        "                                                       is_training : False}) # test 할 때는 드롭아웃을 사용하지 않으므로, 마지막 항이 False\n",
        "    \n",
        "    print(\" test_loss_score=\", test_loss)\n",
        "    y_test_pred_classified = np.argmax(y_test_pred, axis=1).astype(np.int32)\n",
        "    y_test_true_classified = np.argmax(y_test, axis=1).astype(np.int32)\n",
        "    print(classification_report(y_test_true_classified, y_test_pred_classified))\n",
        "    \n",
        "    cm = confusion_matrix(y_test_true_classified, y_test_pred_classified)\n",
        "    \n",
        "    plt.imshow(cm, interpolation='nearest', cmap=plt.cm.Blues)\n",
        "    plt.colorbar()\n",
        "    plt.tight_layout()\n",
        "    plt.show()\n",
        "    \n",
        "    # And the log2 version, to enphasize the misclassifications(잘못 분류한 내용을 강조하기 위해 log2 버전을 그림)\n",
        "    plt.imshow(np.log2(cm + 1), interpolation='nearest', cmap=plt.get_cmap(\"tab20\"))\n",
        "    plt.colorbar()\n",
        "    plt.tight_layout()\n",
        "    plt.show()\n",
        "\n",
        "\n",
        "tf1.reset_default_graph()\n",
        "train_model(X_train, y_train, X_test, y_test, 0.001, 10, 256) # 순서대로 학습 속도, epoch 개수, 미니배치당 표본 개수"
      ],
      "execution_count": null,
      "outputs": [
        {
          "output_type": "stream",
          "name": "stderr",
          "text": [
            "/usr/local/lib/python3.7/dist-packages/keras/legacy_tf_layers/core.py:513: UserWarning: `tf.layers.flatten` is deprecated and will be removed in a future version. Please use `tf.keras.layers.Flatten` instead.\n",
            "  warnings.warn('`tf.layers.flatten` is deprecated and '\n",
            "/usr/local/lib/python3.7/dist-packages/keras/engine/base_layer_v1.py:1676: UserWarning: `layer.apply` is deprecated and will be removed in a future version. Please use `layer.__call__` method instead.\n",
            "  warnings.warn('`layer.apply` is deprecated and '\n"
          ]
        },
        {
          "output_type": "stream",
          "name": "stdout",
          "text": [
            "Epoch= 0\n",
            " train_loss_score= 7.183964\n",
            "Epoch= 1\n",
            " train_loss_score= 2.1058764\n",
            "Epoch= 2\n",
            " train_loss_score= 1.2949715\n",
            "Epoch= 3\n",
            " train_loss_score= 0.8931912\n",
            "Epoch= 4\n",
            " train_loss_score= 0.7043045\n",
            "Epoch= 5\n",
            " train_loss_score= 0.5721999\n",
            "Epoch= 6\n",
            " train_loss_score= 0.50098526\n",
            "Epoch= 7\n",
            " train_loss_score= 0.4373008\n",
            "Epoch= 8\n",
            " train_loss_score= 0.39137036\n",
            "Epoch= 9\n",
            " train_loss_score= 0.35816637\n",
            "TEST SET PERFORMANCE\n",
            " test_loss_score= 0.101504765\n",
            "              precision    recall  f1-score   support\n",
            "\n",
            "           0       0.98      0.84      0.90        67\n",
            "           1       0.98      0.91      0.94       539\n",
            "           2       0.98      0.98      0.98       558\n",
            "           3       1.00      0.94      0.97       364\n",
            "           4       0.92      1.00      0.95       487\n",
            "           5       0.95      0.96      0.96       479\n",
            "           6       1.00      1.00      1.00       105\n",
            "           7       1.00      0.90      0.94       364\n",
            "           8       0.89      1.00      0.94       340\n",
            "           9       1.00      0.96      0.98       384\n",
            "          10       0.96      1.00      0.98       513\n",
            "          11       1.00      0.96      0.98       334\n",
            "          12       0.99      0.99      0.99       545\n",
            "          13       0.99      1.00      1.00       537\n",
            "          14       0.99      1.00      1.00       213\n",
            "          15       0.93      1.00      0.96       164\n",
            "          16       1.00      1.00      1.00        98\n",
            "          17       0.99      1.00      0.99       281\n",
            "          18       0.99      1.00      0.99       286\n",
            "          19       0.98      1.00      0.99        56\n",
            "          20       0.87      0.97      0.92        78\n",
            "          21       0.99      0.92      0.95        95\n",
            "          22       0.99      0.99      0.99        97\n",
            "          23       0.99      0.97      0.98       123\n",
            "          24       0.96      0.97      0.97        77\n",
            "          25       0.98      0.99      0.98       401\n",
            "          26       0.98      0.97      0.97       135\n",
            "          27       0.95      0.98      0.97        60\n",
            "          28       0.98      0.98      0.98       123\n",
            "          29       1.00      0.99      0.99        69\n",
            "          30       0.98      0.97      0.97       115\n",
            "          31       0.95      0.99      0.97       178\n",
            "          32       0.93      0.96      0.95        55\n",
            "          33       0.99      0.98      0.99       177\n",
            "          34       0.96      0.98      0.97       103\n",
            "          35       1.00      0.99      0.99       277\n",
            "          36       0.99      0.99      0.99        78\n",
            "          37       1.00      0.98      0.99        63\n",
            "          38       1.00      0.98      0.99       540\n",
            "          39       1.00      1.00      1.00        60\n",
            "          40       0.95      0.96      0.96        85\n",
            "          41       1.00      0.96      0.98        47\n",
            "          42       1.00      0.98      0.99        53\n",
            "\n",
            "    accuracy                           0.97      9803\n",
            "   macro avg       0.98      0.97      0.97      9803\n",
            "weighted avg       0.98      0.97      0.97      9803\n",
            "\n"
          ]
        },
        {
          "output_type": "display_data",
          "data": {
            "image/png": "[encoded data removed]",
            "text/plain": [
              "<Figure size 432x288 with 2 Axes>"
            ]
          },
          "metadata": {
            "needs_background": "light"
          }
        },
        {
          "output_type": "display_data",
          "data": {
            "image/png": "[encoded data removed]",
            "text/plain": [
              "<Figure size 432x288 with 2 Axes>"
            ]
          },
          "metadata": {
            "needs_background": "light"
          }
        }
      ]
    }
  ]
}